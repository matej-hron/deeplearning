{
 "cells": [
  {
   "cell_type": "markdown",
   "metadata": {},
   "source": [
    "# IMDB - Binary Classification Problem"
   ]
  },
  {
   "cell_type": "code",
   "execution_count": 1,
   "metadata": {},
   "outputs": [
    {
     "name": "stderr",
     "output_type": "stream",
     "text": [
      "Using TensorFlow backend.\n"
     ]
    }
   ],
   "source": [
    "from keras.datasets import imdb\n",
    "(train_data, train_labels), (test_data, test_labels) = imdb.load_data(num_words=10000)\n",
    "\n",
    "import numpy as np\n",
    "\n",
    "def vectorize_sequences(sequences, dimension = 10000):\n",
    "    results = np.zeros((len(sequences), dimension))\n",
    "\n",
    "    for i, sequence in enumerate(sequences):\n",
    "        results[i, sequence] = 1\n",
    "    \n",
    "    return results\n"
   ]
  },
  {
   "cell_type": "code",
   "execution_count": 2,
   "metadata": {
    "collapsed": true
   },
   "outputs": [],
   "source": [
    "x_train = vectorize_sequences(train_data)\n",
    "x_test = vectorize_sequences(test_data)\n",
    "\n",
    "#vectorize labels\n",
    "y_train = np.asarray(train_labels).astype('float32')\n",
    "y_test = np.asarray(test_labels).astype('float32')\n",
    "\n",
    "from keras import models\n",
    "from keras import layers\n",
    "\n",
    "model = models.Sequential()\n",
    "model.add(layers.Dense(16, activation='relu', input_shape=(10000,)))\n",
    "model.add(layers.Dense(16, activation='relu'))\n",
    "model.add(layers.Dense(1, activation='sigmoid'))\n",
    "\n",
    "model.compile(optimizer='rmsprop', loss='binary_crossentropy', metrics=['accuracy'])\n"
   ]
  },
  {
   "cell_type": "code",
   "execution_count": 3,
   "metadata": {},
   "outputs": [
    {
     "name": "stdout",
     "output_type": "stream",
     "text": [
      "Train on 15000 samples, validate on 10000 samples\n",
      "Epoch 1/20\n",
      "15000/15000 [==============================] - 2s - loss: 0.5157 - acc: 0.7895 - val_loss: 0.4009 - val_acc: 0.8653\n",
      "Epoch 2/20\n",
      "15000/15000 [==============================] - 1s - loss: 0.3146 - acc: 0.9029 - val_loss: 0.3247 - val_acc: 0.8787\n",
      "Epoch 3/20\n",
      "15000/15000 [==============================] - 1s - loss: 0.2319 - acc: 0.9246 - val_loss: 0.2808 - val_acc: 0.8923\n",
      "Epoch 4/20\n",
      "15000/15000 [==============================] - 2s - loss: 0.1816 - acc: 0.9430 - val_loss: 0.2729 - val_acc: 0.8905\n",
      "Epoch 5/20\n",
      "15000/15000 [==============================] - 2s - loss: 0.1495 - acc: 0.9513 - val_loss: 0.2780 - val_acc: 0.8891\n",
      "Epoch 6/20\n",
      "15000/15000 [==============================] - 1s - loss: 0.1209 - acc: 0.9631 - val_loss: 0.3221 - val_acc: 0.8807\n",
      "Epoch 7/20\n",
      "15000/15000 [==============================] - 1s - loss: 0.1031 - acc: 0.9692 - val_loss: 0.3045 - val_acc: 0.8848\n",
      "Epoch 8/20\n",
      "15000/15000 [==============================] - 1s - loss: 0.0847 - acc: 0.9759 - val_loss: 0.3366 - val_acc: 0.8773\n",
      "Epoch 9/20\n",
      "15000/15000 [==============================] - 1s - loss: 0.0728 - acc: 0.9806 - val_loss: 0.3593 - val_acc: 0.8802\n",
      "Epoch 10/20\n",
      "15000/15000 [==============================] - 1s - loss: 0.0582 - acc: 0.9859 - val_loss: 0.3728 - val_acc: 0.8804\n",
      "Epoch 11/20\n",
      "15000/15000 [==============================] - 1s - loss: 0.0491 - acc: 0.9885 - val_loss: 0.3981 - val_acc: 0.8782\n",
      "Epoch 12/20\n",
      "15000/15000 [==============================] - 1s - loss: 0.0388 - acc: 0.9919 - val_loss: 0.4392 - val_acc: 0.8777\n",
      "Epoch 13/20\n",
      "15000/15000 [==============================] - 1s - loss: 0.0302 - acc: 0.9943 - val_loss: 0.4528 - val_acc: 0.8743\n",
      "Epoch 14/20\n",
      "15000/15000 [==============================] - 1s - loss: 0.0245 - acc: 0.9956 - val_loss: 0.4799 - val_acc: 0.8731\n",
      "Epoch 15/20\n",
      "15000/15000 [==============================] - 1s - loss: 0.0196 - acc: 0.9970 - val_loss: 0.5726 - val_acc: 0.8665\n",
      "Epoch 16/20\n",
      "15000/15000 [==============================] - 1s - loss: 0.0127 - acc: 0.9992 - val_loss: 0.5566 - val_acc: 0.8728\n",
      "Epoch 17/20\n",
      "15000/15000 [==============================] - 1s - loss: 0.0121 - acc: 0.9987 - val_loss: 0.5844 - val_acc: 0.8723\n",
      "Epoch 18/20\n",
      "15000/15000 [==============================] - 1s - loss: 0.0098 - acc: 0.9983 - val_loss: 0.6081 - val_acc: 0.8692\n",
      "Epoch 19/20\n",
      "15000/15000 [==============================] - 2s - loss: 0.0072 - acc: 0.9991 - val_loss: 0.6409 - val_acc: 0.8680\n",
      "Epoch 20/20\n",
      "15000/15000 [==============================] - 1s - loss: 0.0039 - acc: 0.9999 - val_loss: 0.6796 - val_acc: 0.8671\n"
     ]
    }
   ],
   "source": [
    "x_val = x_train[:10000]\n",
    "partial_x_train = x_train[10000:]\n",
    "\n",
    "y_val = y_train[:10000]\n",
    "partial_y_train = y_train[10000:]\n",
    "\n",
    "history = model.fit(partial_x_train,\n",
    "                    partial_y_train,\n",
    "                    epochs=20,\n",
    "                    batch_size=512,\n",
    "                    validation_data=(x_val, y_val))\n"
   ]
  },
  {
   "cell_type": "code",
   "execution_count": 4,
   "metadata": {},
   "outputs": [
    {
     "data": {
      "image/png": "[encoded data removed]",
      "text/plain": [
       "<matplotlib.figure.Figure at 0x1c08a25eb00>"
      ]
     },
     "metadata": {},
     "output_type": "display_data"
    },
    {
     "data": {
      "image/png": "[encoded data removed]",
      "text/plain": [
       "<matplotlib.figure.Figure at 0x1c081fcc0f0>"
      ]
     },
     "metadata": {},
     "output_type": "display_data"
    }
   ],
   "source": [
    "history_dict = history.history\n",
    "\n",
    "import matplotlib.pyplot as plt\n",
    "\n",
    "loss_values = history_dict['loss']\n",
    "val_loss_values = history_dict['val_loss']\n",
    "epochs = range(1, len(loss_values) + 1)\n",
    "\n",
    "# \"bo\" is for \"blue dot\"\n",
    "plt.plot(epochs, loss_values, 'bo')\n",
    "# b+ is for \"blue crosses\"\n",
    "plt.plot(epochs, val_loss_values, 'b+')\n",
    "plt.xlabel('Epochs')\n",
    "plt.ylabel('Loss')\n",
    "plt.show()\n",
    "\n",
    "plt.clf() # clear figure\n",
    "acc_values = history_dict['acc']\n",
    "val_acc_values = history_dict['val_acc']\n",
    "plt.plot(epochs, acc_values, 'bo')\n",
    "plt.plot(epochs, val_acc_values, 'b+')\n",
    "plt.xlabel('Epochs')\n",
    "plt.ylabel('Accuracy')\n",
    "plt.show()\n"
   ]
  },
  {
   "cell_type": "markdown",
   "metadata": {},
   "source": [
    "##Overfitting after 4 epochs!"
   ]
  },
  {
   "cell_type": "code",
   "execution_count": 5,
   "metadata": {},
   "outputs": [
    {
     "name": "stdout",
     "output_type": "stream",
     "text": [
      "Epoch 1/4\n",
      "25000/25000 [==============================] - 2s - loss: 0.4719 - acc: 0.8105     \n",
      "Epoch 2/4\n",
      "25000/25000 [==============================] - 2s - loss: 0.2652 - acc: 0.9078     \n",
      "Epoch 3/4\n",
      "25000/25000 [==============================] - 2s - loss: 0.2022 - acc: 0.9278     \n",
      "Epoch 4/4\n",
      "25000/25000 [==============================] - 2s - loss: 0.1687 - acc: 0.9404     \n",
      "24800/25000 [============================>.] - ETA: 0s[0.29112329353332522, 0.88480000000000003]\n"
     ]
    }
   ],
   "source": [
    "model = models.Sequential()\n",
    "model.add(layers.Dense(16, activation='relu', input_shape=(10000,)))\n",
    "model.add(layers.Dense(16, activation='relu'))\n",
    "model.add(layers.Dense(1, activation='sigmoid'))\n",
    "\n",
    "model.compile(optimizer='rmsprop', loss='binary_crossentropy', metrics=['accuracy'])\n",
    "\n",
    "\n",
    "history = model.fit(x_train,\n",
    "                    y_train,\n",
    "                    epochs=4,\n",
    "                    batch_size=512,\n",
    "                    )\n",
    "results = model.evaluate(x_test, y_test)\n",
    "print(results)"
   ]
  },
  {
   "cell_type": "markdown",
   "metadata": {},
   "source": [
    "#Conclusions:\n",
    "\n",
    "* There’s usually quite a bit of preprocessing you need to do on your raw data in order to be able to feed it --as tensors-- into a neural network. In the case of sequence of words, they can be encoded as binary vectors --but there are other encoding options too.\n",
    "\n",
    "* Stacks of Dense layers with relu activations can solve a wide range of problems (including sentiment classification) and will likely use them frequently.\n",
    "\n",
    "* In a binary classification problem (two classes), your network should end with a Dense layer with 1 unit and a sigmoid activation, i.e. the output of your network should be a scalar between 0 and 1, encoding a probability.\n",
    "\n",
    "* With such a scalar sigmoid output, on a binary classification problem, the loss function you should use is binary_crossentropy.\n",
    "\n",
    "* The rmsprop optimizer is generally a good enough choice of optimizer, whatever your problem. That’s one less thing for you to worry about.\n",
    "\n",
    "* As they get better on their training data, neural networks eventually start overfitting and end up obtaining worse results on data never-seen-before. Make sure to always monitor performance on data that is outside of the training set."
   ]
  }
 ],
 "metadata": {
  "kernelspec": {
   "display_name": "Python 3",
   "language": "python",
   "name": "python3"
  },
  "language_info": {
   "codemirror_mode": {
    "name": "ipython",
    "version": 3
   },
   "file_extension": ".py",
   "mimetype": "text/x-python",
   "name": "python",
   "nbconvert_exporter": "python",
   "pygments_lexer": "ipython3",
   "version": "3.6.1"
  }
 },
 "nbformat": 4,
 "nbformat_minor": 2
}
