{
 "cells": [
  {
   "cell_type": "markdown",
   "metadata": {},
   "source": [
    "# Big Reports (AKKA) vs Old Reports Performance Test Comparison\n",
    "\n",
    "## Read Data"
   ]
  },
  {
   "cell_type": "code",
   "execution_count": 7,
   "metadata": {},
   "outputs": [
    {
     "data": {
      "text/html": [
       "<div>\n",
       "<style>\n",
       "    .dataframe thead tr:only-child th {\n",
       "        text-align: right;\n",
       "    }\n",
       "\n",
       "    .dataframe thead th {\n",
       "        text-align: left;\n",
       "    }\n",
       "\n",
       "    .dataframe tbody tr th {\n",
       "        vertical-align: top;\n",
       "    }\n",
       "</style>\n",
       "<table border=\"1\" class=\"dataframe\">\n",
       "  <thead>\n",
       "    <tr style=\"text-align: right;\">\n",
       "      <th></th>\n",
       "      <th>State</th>\n",
       "      <th>CreditInfoId</th>\n",
       "      <th>ContractCount</th>\n",
       "      <th>Duration</th>\n",
       "      <th>DurationSeconds</th>\n",
       "      <th>StartTime</th>\n",
       "      <th>EndTime</th>\n",
       "      <th>ErrorMessage</th>\n",
       "      <th>TestType</th>\n",
       "      <th>Round</th>\n",
       "      <th>Output</th>\n",
       "      <th>MinutePeak</th>\n",
       "    </tr>\n",
       "  </thead>\n",
       "  <tbody>\n",
       "    <tr>\n",
       "      <th>0</th>\n",
       "      <td>Ok</td>\n",
       "      <td>8206814</td>\n",
       "      <td>2</td>\n",
       "      <td>00:00:05.8170921</td>\n",
       "      <td>5.817092</td>\n",
       "      <td>06/27/2017 10:30:11</td>\n",
       "      <td>06/27/2017 10:30:17</td>\n",
       "      <td>NaN</td>\n",
       "      <td>WsReport</td>\n",
       "      <td>1</td>\n",
       "      <td>Xml</td>\n",
       "      <td>120</td>\n",
       "    </tr>\n",
       "    <tr>\n",
       "      <th>1</th>\n",
       "      <td>Ok</td>\n",
       "      <td>6145634</td>\n",
       "      <td>1</td>\n",
       "      <td>00:00:05.8477252</td>\n",
       "      <td>5.847725</td>\n",
       "      <td>06/27/2017 10:30:11</td>\n",
       "      <td>06/27/2017 10:30:17</td>\n",
       "      <td>NaN</td>\n",
       "      <td>WsReport</td>\n",
       "      <td>1</td>\n",
       "      <td>Xml</td>\n",
       "      <td>120</td>\n",
       "    </tr>\n",
       "    <tr>\n",
       "      <th>2</th>\n",
       "      <td>Ok</td>\n",
       "      <td>52912079</td>\n",
       "      <td>3</td>\n",
       "      <td>00:00:05.0948914</td>\n",
       "      <td>5.094891</td>\n",
       "      <td>06/27/2017 10:30:12</td>\n",
       "      <td>06/27/2017 10:30:18</td>\n",
       "      <td>NaN</td>\n",
       "      <td>WsReport</td>\n",
       "      <td>1</td>\n",
       "      <td>Xml</td>\n",
       "      <td>120</td>\n",
       "    </tr>\n",
       "    <tr>\n",
       "      <th>3</th>\n",
       "      <td>Ok</td>\n",
       "      <td>90897818</td>\n",
       "      <td>4</td>\n",
       "      <td>00:00:05.4744016</td>\n",
       "      <td>5.474402</td>\n",
       "      <td>06/27/2017 10:30:12</td>\n",
       "      <td>06/27/2017 10:30:18</td>\n",
       "      <td>NaN</td>\n",
       "      <td>WsReport</td>\n",
       "      <td>1</td>\n",
       "      <td>Xml</td>\n",
       "      <td>120</td>\n",
       "    </tr>\n",
       "    <tr>\n",
       "      <th>4</th>\n",
       "      <td>Ok</td>\n",
       "      <td>9410522</td>\n",
       "      <td>6</td>\n",
       "      <td>00:00:04.8837331</td>\n",
       "      <td>4.883733</td>\n",
       "      <td>06/27/2017 10:30:13</td>\n",
       "      <td>06/27/2017 10:30:18</td>\n",
       "      <td>NaN</td>\n",
       "      <td>WsReport</td>\n",
       "      <td>1</td>\n",
       "      <td>Xml</td>\n",
       "      <td>120</td>\n",
       "    </tr>\n",
       "  </tbody>\n",
       "</table>\n",
       "</div>"
      ],
      "text/plain": [
       "  State  CreditInfoId  ContractCount          Duration  DurationSeconds  \\\n",
       "0    Ok       8206814              2  00:00:05.8170921         5.817092   \n",
       "1    Ok       6145634              1  00:00:05.8477252         5.847725   \n",
       "2    Ok      52912079              3  00:00:05.0948914         5.094891   \n",
       "3    Ok      90897818              4  00:00:05.4744016         5.474402   \n",
       "4    Ok       9410522              6  00:00:04.8837331         4.883733   \n",
       "\n",
       "             StartTime              EndTime  ErrorMessage  TestType  Round  \\\n",
       "0  06/27/2017 10:30:11  06/27/2017 10:30:17           NaN  WsReport      1   \n",
       "1  06/27/2017 10:30:11  06/27/2017 10:30:17           NaN  WsReport      1   \n",
       "2  06/27/2017 10:30:12  06/27/2017 10:30:18           NaN  WsReport      1   \n",
       "3  06/27/2017 10:30:12  06/27/2017 10:30:18           NaN  WsReport      1   \n",
       "4  06/27/2017 10:30:13  06/27/2017 10:30:18           NaN  WsReport      1   \n",
       "\n",
       "  Output  MinutePeak  \n",
       "0    Xml         120  \n",
       "1    Xml         120  \n",
       "2    Xml         120  \n",
       "3    Xml         120  \n",
       "4    Xml         120  "
      ]
     },
     "execution_count": 7,
     "metadata": {},
     "output_type": "execute_result"
    }
   ],
   "source": [
    "import pandas as pd\n",
    "import numpy as np\n",
    "import pylab as P\n",
    "import matplotlib as mp\n",
    "import matplotlib.pyplot as plt\n",
    "\n",
    "\n",
    "data = pd.read_csv(\"\\\\\\\\CISOI-P-Bench1\\\\c$\\\\temp\\\\stat_akka_off_node_120_v1_test4h\\\\benchmarkResults.csv\")\n",
    "data2 = pd.read_csv(\"\\\\\\\\CISOI-P-Bench1\\\\c$\\\\temp\\\\stat_akka_15_node_120_v1_test4h\\\\benchmarkResults.csv\")\n",
    "data.head()"
   ]
  },
  {
   "cell_type": "code",
   "execution_count": 11,
   "metadata": {},
   "outputs": [
    {
     "name": "stdout",
     "output_type": "stream",
     "text": [
      "# of errors in the 1st set:  0\n",
      "# of errors in the 2nd set:  0\n",
      "size of the 1st set  28500\n",
      "size of the 2nd set  28506\n"
     ]
    }
   ],
   "source": [
    "print(\"# of errors in the 1st set: \", len([x for x in data[\"State\"] if x != 'Ok']))\n",
    "print(\"# of errors in the 2nd set: \", len([x for x in data2[\"State\"] if x != 'Ok']))\n",
    "\n",
    "print(\"size of the 1st set \",len(data))\n",
    "print(\"size of the 2nd set \",len(data2))"
   ]
  },
  {
   "cell_type": "markdown",
   "metadata": {},
   "source": [
    "## Compare statistics between data sets"
   ]
  },
  {
   "cell_type": "code",
   "execution_count": 9,
   "metadata": {},
   "outputs": [
    {
     "name": "stdout",
     "output_type": "stream",
     "text": [
      "mean:  0.504918620750877   0.488323276717183\n",
      "max:  7.9354391   8.0737892\n",
      "min:  0.0886129   0.1034526\n",
      "median:  0.44761055000000005   0.43347325000000003\n",
      "80:  0.59084084   0.5476536999999999\n",
      "94:  0.864862516   0.8519047099999983\n",
      "95:  0.943201645   0.9360715499999999\n",
      "98:  1.354643752   1.3543451199999987\n",
      "99:  1.6627455809999945   1.7098643099999997\n"
     ]
    }
   ],
   "source": [
    "def writeDurations(data1, data2):\n",
    "    d1 = data1[\"DurationSeconds\"]\n",
    "    d2 = data2[\"DurationSeconds\"]\n",
    "\n",
    "    print(\"mean: \", d1.mean(), \" \", d2.mean())\n",
    "    \n",
    "    print(\"max: \", d1.max(), \" \", d2.max())\n",
    "    print(\"min: \", d1.min(), \" \", d2.min())\n",
    "    print(\"median: \", d1.median(), \" \", d2.median())\n",
    "    print(\"80: \", d1.quantile(.8), \" \", d2.quantile(.8))\n",
    "    print(\"94: \", d1.quantile(.94), \" \", d2.quantile(.94))\n",
    "    print(\"95: \", d1.quantile(.95), \" \", d2.quantile(.95))\n",
    "    print(\"98: \", d1.quantile(.98), \" \", d2.quantile(.98))\n",
    "    print(\"99: \", d1.quantile(.99), \" \", d2.quantile(.99))\n",
    "\n",
    "writeDurations(data, data2)\n",
    "#writeDurations(data2)\n"
   ]
  },
  {
   "cell_type": "markdown",
   "metadata": {},
   "source": [
    "## Draw report time distribution to graph"
   ]
  },
  {
   "cell_type": "code",
   "execution_count": 10,
   "metadata": {},
   "outputs": [
    {
     "data": {
      "image/png": "[encoded data removed]",
      "text/plain": [
       "<matplotlib.figure.Figure at 0x1ef4a574dd8>"
      ]
     },
     "metadata": {},
     "output_type": "display_data"
    },
    {
     "data": {
      "image/png": "[encoded data removed]",
      "text/plain": [
       "<matplotlib.figure.Figure at 0x1ef4d58b390>"
      ]
     },
     "metadata": {},
     "output_type": "display_data"
    }
   ],
   "source": [
    "def draw(durations):\n",
    "    d = np.array(durations)\n",
    "    d.sort()\n",
    "\n",
    "\n",
    "    # Percentile values\n",
    "    p = np.array([0.0, 50.0, 80.0, 95, 97, 98, 99, 100.0])\n",
    "\n",
    "    perc = mp.mlab.prctile(d, p=p)\n",
    "\n",
    "    plt.plot(d)\n",
    "    # Place red dots on the percentiles\n",
    "    plt.plot((len(d)-1) * p/100., perc, 'ro')\n",
    "\n",
    "    # Set tick locations and labels\n",
    "    plt.xticks((len(d)-1) * p/100., map(str, p))\n",
    "\n",
    "    plt.show()\n",
    "    \n",
    "draw(data[\"DurationSeconds\"])\n",
    "draw(data2[\"DurationSeconds\"])"
   ]
  },
  {
   "cell_type": "code",
   "execution_count": null,
   "metadata": {
    "collapsed": true
   },
   "outputs": [],
   "source": []
  }
 ],
 "metadata": {
  "kernelspec": {
   "display_name": "Python 3",
   "language": "python",
   "name": "python3"
  },
  "language_info": {
   "codemirror_mode": {
    "name": "ipython",
    "version": 3
   },
   "file_extension": ".py",
   "mimetype": "text/x-python",
   "name": "python",
   "nbconvert_exporter": "python",
   "pygments_lexer": "ipython3",
   "version": "3.6.1"
  }
 },
 "nbformat": 4,
 "nbformat_minor": 2
}
